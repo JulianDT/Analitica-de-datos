{
  "nbformat": 4,
  "nbformat_minor": 0,
  "metadata": {
    "colab": {
      "name": "Housing.ipynb",
      "provenance": [],
      "collapsed_sections": [],
      "authorship_tag": "ABX9TyNw46k9e+Ve9/yK3rp9haKZ",
      "include_colab_link": true
    },
    "kernelspec": {
      "name": "python3",
      "display_name": "Python 3"
    }
  },
  "cells": [
    {
      "cell_type": "markdown",
      "metadata": {
        "id": "view-in-github",
        "colab_type": "text"
      },
      "source": [
        "<a href=\"https://colab.research.google.com/github/JulianDT/Analitica-de-datos/blob/master/Housing.ipynb\" target=\"_parent\"><img src=\"https://colab.research.google.com/assets/colab-badge.svg\" alt=\"Open In Colab\"/></a>"
      ]
    },
    {
      "cell_type": "code",
      "metadata": {
        "id": "KpGhFfXS-z3n",
        "colab_type": "code",
        "outputId": "3b23fec4-5adc-4d6f-ffab-27a07cca3f24",
        "colab": {
          "base_uri": "https://localhost:8080/",
          "height": 496
        }
      },
      "source": [
        "!pip install tensorflow==2.0.0-alpha0\n",
        "# !pip install --upgrade tensorflow\n",
        "# !pip install -U tensorflow-gpu==2.0.0 grpcio\n",
        "!pip install --upgrade keras"
      ],
      "execution_count": 1,
      "outputs": [
        {
          "output_type": "stream",
          "text": [
            "Requirement already satisfied: tensorflow==2.0.0-alpha0 in /usr/local/lib/python3.6/dist-packages (2.0.0a0)\n",
            "Requirement already satisfied: keras-applications>=1.0.6 in /usr/local/lib/python3.6/dist-packages (from tensorflow==2.0.0-alpha0) (1.0.8)\n",
            "Requirement already satisfied: grpcio>=1.8.6 in /usr/local/lib/python3.6/dist-packages (from tensorflow==2.0.0-alpha0) (1.27.2)\n",
            "Requirement already satisfied: tf-estimator-nightly<1.14.0.dev2019030116,>=1.14.0.dev2019030115 in /usr/local/lib/python3.6/dist-packages (from tensorflow==2.0.0-alpha0) (1.14.0.dev2019030115)\n",
            "Requirement already satisfied: numpy<2.0,>=1.14.5 in /usr/local/lib/python3.6/dist-packages (from tensorflow==2.0.0-alpha0) (1.17.5)\n",
            "Requirement already satisfied: keras-preprocessing>=1.0.5 in /usr/local/lib/python3.6/dist-packages (from tensorflow==2.0.0-alpha0) (1.1.0)\n",
            "Requirement already satisfied: termcolor>=1.1.0 in /usr/local/lib/python3.6/dist-packages (from tensorflow==2.0.0-alpha0) (1.1.0)\n",
            "Requirement already satisfied: absl-py>=0.7.0 in /usr/local/lib/python3.6/dist-packages (from tensorflow==2.0.0-alpha0) (0.9.0)\n",
            "Requirement already satisfied: astor>=0.6.0 in /usr/local/lib/python3.6/dist-packages (from tensorflow==2.0.0-alpha0) (0.8.1)\n",
            "Requirement already satisfied: gast>=0.2.0 in /usr/local/lib/python3.6/dist-packages (from tensorflow==2.0.0-alpha0) (0.2.2)\n",
            "Requirement already satisfied: tb-nightly<1.14.0a20190302,>=1.14.0a20190301 in /usr/local/lib/python3.6/dist-packages (from tensorflow==2.0.0-alpha0) (1.14.0a20190301)\n",
            "Requirement already satisfied: protobuf>=3.6.1 in /usr/local/lib/python3.6/dist-packages (from tensorflow==2.0.0-alpha0) (3.10.0)\n",
            "Requirement already satisfied: six>=1.10.0 in /usr/local/lib/python3.6/dist-packages (from tensorflow==2.0.0-alpha0) (1.12.0)\n",
            "Requirement already satisfied: google-pasta>=0.1.2 in /usr/local/lib/python3.6/dist-packages (from tensorflow==2.0.0-alpha0) (0.1.8)\n",
            "Requirement already satisfied: wheel>=0.26 in /usr/local/lib/python3.6/dist-packages (from tensorflow==2.0.0-alpha0) (0.34.2)\n",
            "Requirement already satisfied: h5py in /usr/local/lib/python3.6/dist-packages (from keras-applications>=1.0.6->tensorflow==2.0.0-alpha0) (2.8.0)\n",
            "Requirement already satisfied: werkzeug>=0.11.15 in /usr/local/lib/python3.6/dist-packages (from tb-nightly<1.14.0a20190302,>=1.14.0a20190301->tensorflow==2.0.0-alpha0) (1.0.0)\n",
            "Requirement already satisfied: markdown>=2.6.8 in /usr/local/lib/python3.6/dist-packages (from tb-nightly<1.14.0a20190302,>=1.14.0a20190301->tensorflow==2.0.0-alpha0) (3.2)\n",
            "Requirement already satisfied: setuptools in /usr/local/lib/python3.6/dist-packages (from protobuf>=3.6.1->tensorflow==2.0.0-alpha0) (45.1.0)\n",
            "Requirement already up-to-date: keras in /usr/local/lib/python3.6/dist-packages (2.3.1)\n",
            "Requirement already satisfied, skipping upgrade: pyyaml in /usr/local/lib/python3.6/dist-packages (from keras) (3.13)\n",
            "Requirement already satisfied, skipping upgrade: six>=1.9.0 in /usr/local/lib/python3.6/dist-packages (from keras) (1.12.0)\n",
            "Requirement already satisfied, skipping upgrade: numpy>=1.9.1 in /usr/local/lib/python3.6/dist-packages (from keras) (1.17.5)\n",
            "Requirement already satisfied, skipping upgrade: scipy>=0.14 in /usr/local/lib/python3.6/dist-packages (from keras) (1.4.1)\n",
            "Requirement already satisfied, skipping upgrade: keras-preprocessing>=1.0.5 in /usr/local/lib/python3.6/dist-packages (from keras) (1.1.0)\n",
            "Requirement already satisfied, skipping upgrade: h5py in /usr/local/lib/python3.6/dist-packages (from keras) (2.8.0)\n",
            "Requirement already satisfied, skipping upgrade: keras-applications>=1.0.6 in /usr/local/lib/python3.6/dist-packages (from keras) (1.0.8)\n"
          ],
          "name": "stdout"
        }
      ]
    },
    {
      "cell_type": "code",
      "metadata": {
        "id": "pc-3vmHC-2nd",
        "colab_type": "code",
        "outputId": "622365ba-ac5b-4f2f-b45a-1cf0c43d2adf",
        "colab": {
          "base_uri": "https://localhost:8080/",
          "height": 700
        }
      },
      "source": [
        "import tensorflow as tf\n",
        "import pandas as pd\n",
        "import numpy as np\n",
        "import matplotlib.pyplot as plt\n",
        "import warnings\n",
        "warnings.filterwarnings(\"ignore\")\n",
        "\n",
        "# para acceder a archivos desde google drive en google colaboratory\n",
        "# acceso a google drive\n",
        "from tensorflow import keras\n",
        "from pydrive.auth import GoogleAuth\n",
        "from pydrive.drive import GoogleDrive\n",
        "from google.colab import auth\n",
        "from oauth2client.client import GoogleCredentials\n",
        "\n",
        "auth.authenticate_user()\n",
        "gauth = GoogleAuth()\n",
        "gauth.credentials = GoogleCredentials.get_application_default()\n",
        "drive = GoogleDrive(gauth)\n",
        "\n",
        "#Se importa base de datos housing\n",
        "\n",
        "housing = '1mFL0qC6ddvlYRXna8qQioBJwEMpPGl5X'\n",
        "downloaded = drive.CreateFile({'id': housing})\n",
        "downloaded.GetContentFile('housing.csv') \n",
        "\n",
        "#Se importa archivo de funciones para housing\n",
        "\n",
        "Funciones = '1ii3ARI6AjA_utKIQ9aYtUkmf6iS_oXDw'\n",
        "downloaded = drive.CreateFile({'id': Funciones})\n",
        "downloaded.GetContentFile('Funciones.py') \n",
        "\n",
        "#Importo la función declarada en el archivo externo\n",
        "\n",
        "from Funciones import pre_exploratorio_housing\n",
        "#Con pandas leo la base de datos y pruebo que cargue adecuadamente\n",
        "Xdata = pd.read_csv('housing.csv')\n",
        "Xdata.info()"
      ],
      "execution_count": 2,
      "outputs": [
        {
          "output_type": "stream",
          "text": [
            "/usr/local/lib/python3.6/dist-packages/tensorflow/python/framework/dtypes.py:523: FutureWarning: Passing (type, 1) or '1type' as a synonym of type is deprecated; in a future version of numpy, it will be understood as (type, (1,)) / '(1,)type'.\n",
            "  _np_qint8 = np.dtype([(\"qint8\", np.int8, 1)])\n",
            "/usr/local/lib/python3.6/dist-packages/tensorflow/python/framework/dtypes.py:524: FutureWarning: Passing (type, 1) or '1type' as a synonym of type is deprecated; in a future version of numpy, it will be understood as (type, (1,)) / '(1,)type'.\n",
            "  _np_quint8 = np.dtype([(\"quint8\", np.uint8, 1)])\n",
            "/usr/local/lib/python3.6/dist-packages/tensorflow/python/framework/dtypes.py:525: FutureWarning: Passing (type, 1) or '1type' as a synonym of type is deprecated; in a future version of numpy, it will be understood as (type, (1,)) / '(1,)type'.\n",
            "  _np_qint16 = np.dtype([(\"qint16\", np.int16, 1)])\n",
            "/usr/local/lib/python3.6/dist-packages/tensorflow/python/framework/dtypes.py:526: FutureWarning: Passing (type, 1) or '1type' as a synonym of type is deprecated; in a future version of numpy, it will be understood as (type, (1,)) / '(1,)type'.\n",
            "  _np_quint16 = np.dtype([(\"quint16\", np.uint16, 1)])\n",
            "/usr/local/lib/python3.6/dist-packages/tensorflow/python/framework/dtypes.py:527: FutureWarning: Passing (type, 1) or '1type' as a synonym of type is deprecated; in a future version of numpy, it will be understood as (type, (1,)) / '(1,)type'.\n",
            "  _np_qint32 = np.dtype([(\"qint32\", np.int32, 1)])\n",
            "/usr/local/lib/python3.6/dist-packages/tensorflow/python/framework/dtypes.py:532: FutureWarning: Passing (type, 1) or '1type' as a synonym of type is deprecated; in a future version of numpy, it will be understood as (type, (1,)) / '(1,)type'.\n",
            "  np_resource = np.dtype([(\"resource\", np.ubyte, 1)])\n",
            "/usr/local/lib/python3.6/dist-packages/tensorboard/compat/tensorflow_stub/dtypes.py:541: FutureWarning: Passing (type, 1) or '1type' as a synonym of type is deprecated; in a future version of numpy, it will be understood as (type, (1,)) / '(1,)type'.\n",
            "  _np_qint8 = np.dtype([(\"qint8\", np.int8, 1)])\n",
            "/usr/local/lib/python3.6/dist-packages/tensorboard/compat/tensorflow_stub/dtypes.py:542: FutureWarning: Passing (type, 1) or '1type' as a synonym of type is deprecated; in a future version of numpy, it will be understood as (type, (1,)) / '(1,)type'.\n",
            "  _np_quint8 = np.dtype([(\"quint8\", np.uint8, 1)])\n",
            "/usr/local/lib/python3.6/dist-packages/tensorboard/compat/tensorflow_stub/dtypes.py:543: FutureWarning: Passing (type, 1) or '1type' as a synonym of type is deprecated; in a future version of numpy, it will be understood as (type, (1,)) / '(1,)type'.\n",
            "  _np_qint16 = np.dtype([(\"qint16\", np.int16, 1)])\n",
            "/usr/local/lib/python3.6/dist-packages/tensorboard/compat/tensorflow_stub/dtypes.py:544: FutureWarning: Passing (type, 1) or '1type' as a synonym of type is deprecated; in a future version of numpy, it will be understood as (type, (1,)) / '(1,)type'.\n",
            "  _np_quint16 = np.dtype([(\"quint16\", np.uint16, 1)])\n",
            "/usr/local/lib/python3.6/dist-packages/tensorboard/compat/tensorflow_stub/dtypes.py:545: FutureWarning: Passing (type, 1) or '1type' as a synonym of type is deprecated; in a future version of numpy, it will be understood as (type, (1,)) / '(1,)type'.\n",
            "  _np_qint32 = np.dtype([(\"qint32\", np.int32, 1)])\n",
            "/usr/local/lib/python3.6/dist-packages/tensorboard/compat/tensorflow_stub/dtypes.py:550: FutureWarning: Passing (type, 1) or '1type' as a synonym of type is deprecated; in a future version of numpy, it will be understood as (type, (1,)) / '(1,)type'.\n",
            "  np_resource = np.dtype([(\"resource\", np.ubyte, 1)])\n"
          ],
          "name": "stderr"
        },
        {
          "output_type": "stream",
          "text": [
            "<class 'pandas.core.frame.DataFrame'>\n",
            "RangeIndex: 20640 entries, 0 to 20639\n",
            "Data columns (total 10 columns):\n",
            "longitude             20640 non-null float64\n",
            "latitude              20640 non-null float64\n",
            "housing_median_age    20640 non-null float64\n",
            "total_rooms           20640 non-null float64\n",
            "total_bedrooms        20433 non-null float64\n",
            "population            20640 non-null float64\n",
            "households            20640 non-null float64\n",
            "median_income         20640 non-null float64\n",
            "median_house_value    20640 non-null float64\n",
            "ocean_proximity       20640 non-null object\n",
            "dtypes: float64(9), object(1)\n",
            "memory usage: 1.6+ MB\n"
          ],
          "name": "stdout"
        }
      ]
    },
    {
      "cell_type": "code",
      "metadata": {
        "id": "ybJD8Eyt-7Rw",
        "colab_type": "code",
        "outputId": "3f32116d-ccf2-4e5e-acce-89608715bea7",
        "colab": {
          "base_uri": "https://localhost:8080/",
          "height": 272
        }
      },
      "source": [
        "from sklearn.model_selection import train_test_split\n",
        "\n",
        "XtrainCompleto, Xtest = train_test_split(Xdata, test_size=0.3)\n",
        "Xtrain, Xvalid = train_test_split(XtrainCompleto, test_size=0.3)\n",
        "\n",
        "Xtrain.info()"
      ],
      "execution_count": 3,
      "outputs": [
        {
          "output_type": "stream",
          "text": [
            "<class 'pandas.core.frame.DataFrame'>\n",
            "Int64Index: 10113 entries, 4140 to 2802\n",
            "Data columns (total 10 columns):\n",
            "longitude             10113 non-null float64\n",
            "latitude              10113 non-null float64\n",
            "housing_median_age    10113 non-null float64\n",
            "total_rooms           10113 non-null float64\n",
            "total_bedrooms        10013 non-null float64\n",
            "population            10113 non-null float64\n",
            "households            10113 non-null float64\n",
            "median_income         10113 non-null float64\n",
            "median_house_value    10113 non-null float64\n",
            "ocean_proximity       10113 non-null object\n",
            "dtypes: float64(9), object(1)\n",
            "memory usage: 869.1+ KB\n"
          ],
          "name": "stdout"
        }
      ]
    },
    {
      "cell_type": "code",
      "metadata": {
        "id": "Rwb3tFSN_Bcz",
        "colab_type": "code",
        "colab": {}
      },
      "source": [
        "#Aplico el preprocesamiento \n",
        "\n",
        "from sklearn.impute import SimpleImputer\n",
        "from sklearn.preprocessing import OneHotEncoder\n",
        "from sklearn.preprocessing import StandardScaler\n",
        "from sklearn.decomposition import PCA\n",
        "from sklearn.preprocessing import OrdinalEncoder\n",
        "\n",
        "#Separo columna de salida, categórigas y numericas\n",
        "col_sal='median_house_value'\n",
        "col_num=['longitude','latitude','housing_median_age','total_rooms','total_bedrooms',\n",
        "        'population','households','median_income']\n",
        "col_cat=['ocean_proximity']\n",
        "\n",
        "#Llamo función de pre_exploratorio para completar campos nulos\n",
        "Xtrain, Ytrain= pre_exploratorio_housing(Xtrain,col_sal,col_num,col_cat,estra_num='median',estra_cat='most_frequent')\n",
        "\n",
        "#Categorizo\n",
        "codificador = OrdinalEncoder()\n",
        "Xtrain['ocean_proximity'].value_counts()\n",
        "Xtrain['ocean_proximity'] = codificador.fit_transform(Xtrain[['ocean_proximity']])\n",
        "\n"
      ],
      "execution_count": 0,
      "outputs": []
    },
    {
      "cell_type": "code",
      "metadata": {
        "id": "4nKmDlHm_EIa",
        "colab_type": "code",
        "colab": {}
      },
      "source": [
        "Xvalid, Yvalid= pre_exploratorio_housing(Xvalid,col_sal,col_num,col_cat,estra_num='median',estra_cat='most_frequent')\n",
        "\n",
        "Xvalid['ocean_proximity'].value_counts()\n",
        "Xvalid['ocean_proximity'] = codificador.fit_transform(Xvalid[['ocean_proximity']])"
      ],
      "execution_count": 0,
      "outputs": []
    },
    {
      "cell_type": "code",
      "metadata": {
        "id": "10pW414Y_Gdd",
        "colab_type": "code",
        "colab": {
          "base_uri": "https://localhost:8080/",
          "height": 204
        },
        "outputId": "4a3f916e-c702-4146-8753-3a249a4d45b3"
      },
      "source": [
        "Xtrain.head()"
      ],
      "execution_count": 6,
      "outputs": [
        {
          "output_type": "execute_result",
          "data": {
            "text/html": [
              "<div>\n",
              "<style scoped>\n",
              "    .dataframe tbody tr th:only-of-type {\n",
              "        vertical-align: middle;\n",
              "    }\n",
              "\n",
              "    .dataframe tbody tr th {\n",
              "        vertical-align: top;\n",
              "    }\n",
              "\n",
              "    .dataframe thead th {\n",
              "        text-align: right;\n",
              "    }\n",
              "</style>\n",
              "<table border=\"1\" class=\"dataframe\">\n",
              "  <thead>\n",
              "    <tr style=\"text-align: right;\">\n",
              "      <th></th>\n",
              "      <th>longitude</th>\n",
              "      <th>latitude</th>\n",
              "      <th>housing_median_age</th>\n",
              "      <th>total_rooms</th>\n",
              "      <th>total_bedrooms</th>\n",
              "      <th>population</th>\n",
              "      <th>households</th>\n",
              "      <th>median_income</th>\n",
              "      <th>ocean_proximity</th>\n",
              "    </tr>\n",
              "  </thead>\n",
              "  <tbody>\n",
              "    <tr>\n",
              "      <th>4140</th>\n",
              "      <td>-118.17</td>\n",
              "      <td>34.12</td>\n",
              "      <td>30.0</td>\n",
              "      <td>3376.0</td>\n",
              "      <td>720.0</td>\n",
              "      <td>1990.0</td>\n",
              "      <td>725.0</td>\n",
              "      <td>3.7813</td>\n",
              "      <td>0.0</td>\n",
              "    </tr>\n",
              "    <tr>\n",
              "      <th>6543</th>\n",
              "      <td>-118.02</td>\n",
              "      <td>34.06</td>\n",
              "      <td>26.0</td>\n",
              "      <td>2929.0</td>\n",
              "      <td>970.0</td>\n",
              "      <td>3792.0</td>\n",
              "      <td>817.0</td>\n",
              "      <td>2.2577</td>\n",
              "      <td>0.0</td>\n",
              "    </tr>\n",
              "    <tr>\n",
              "      <th>105</th>\n",
              "      <td>-122.24</td>\n",
              "      <td>37.82</td>\n",
              "      <td>52.0</td>\n",
              "      <td>1509.0</td>\n",
              "      <td>225.0</td>\n",
              "      <td>674.0</td>\n",
              "      <td>244.0</td>\n",
              "      <td>4.9306</td>\n",
              "      <td>3.0</td>\n",
              "    </tr>\n",
              "    <tr>\n",
              "      <th>20179</th>\n",
              "      <td>-119.22</td>\n",
              "      <td>34.34</td>\n",
              "      <td>29.0</td>\n",
              "      <td>3128.0</td>\n",
              "      <td>672.0</td>\n",
              "      <td>1815.0</td>\n",
              "      <td>648.0</td>\n",
              "      <td>2.9821</td>\n",
              "      <td>4.0</td>\n",
              "    </tr>\n",
              "    <tr>\n",
              "      <th>6513</th>\n",
              "      <td>-118.03</td>\n",
              "      <td>34.06</td>\n",
              "      <td>36.0</td>\n",
              "      <td>1018.0</td>\n",
              "      <td>305.0</td>\n",
              "      <td>1307.0</td>\n",
              "      <td>292.0</td>\n",
              "      <td>2.1453</td>\n",
              "      <td>0.0</td>\n",
              "    </tr>\n",
              "  </tbody>\n",
              "</table>\n",
              "</div>"
            ],
            "text/plain": [
              "       longitude  latitude  ...  median_income  ocean_proximity\n",
              "4140     -118.17     34.12  ...         3.7813              0.0\n",
              "6543     -118.02     34.06  ...         2.2577              0.0\n",
              "105      -122.24     37.82  ...         4.9306              3.0\n",
              "20179    -119.22     34.34  ...         2.9821              4.0\n",
              "6513     -118.03     34.06  ...         2.1453              0.0\n",
              "\n",
              "[5 rows x 9 columns]"
            ]
          },
          "metadata": {
            "tags": []
          },
          "execution_count": 6
        }
      ]
    },
    {
      "cell_type": "code",
      "metadata": {
        "id": "75bjstSJ_JK6",
        "colab_type": "code",
        "colab": {}
      },
      "source": [
        "model = keras.models.Sequential([\n",
        "    keras.layers.Dense(200, input_shape=(9,), activation=\"relu\"),\n",
        "    keras .layers.Dense(50, activation=\"tanh\"),\n",
        "    keras.layers.Dense(1)\n",
        "])"
      ],
      "execution_count": 0,
      "outputs": []
    },
    {
      "cell_type": "code",
      "metadata": {
        "id": "EzHcjZbZfTCC",
        "colab_type": "code",
        "colab": {
          "base_uri": "https://localhost:8080/",
          "height": 34
        },
        "outputId": "81f75710-f7cd-4595-bb51-474f60dcf2d2"
      },
      "source": [
        "hidden1 = model.layers[1]\n",
        "model.get_layer(hidden1.name) is hidden1"
      ],
      "execution_count": 9,
      "outputs": [
        {
          "output_type": "execute_result",
          "data": {
            "text/plain": [
              "True"
            ]
          },
          "metadata": {
            "tags": []
          },
          "execution_count": 9
        }
      ]
    },
    {
      "cell_type": "code",
      "metadata": {
        "id": "lx86GhtQ_LBW",
        "colab_type": "code",
        "colab": {
          "base_uri": "https://localhost:8080/",
          "height": 238
        },
        "outputId": "1703027b-0f73-4cfe-96a8-49c003c81552"
      },
      "source": [
        "weights, biases = hidden1.get_weights()\n",
        "weights"
      ],
      "execution_count": 10,
      "outputs": [
        {
          "output_type": "execute_result",
          "data": {
            "text/plain": [
              "array([[-0.03454883,  0.05136788, -0.09042782, ...,  0.08953464,\n",
              "        -0.07282602, -0.04106409],\n",
              "       [-0.07058735, -0.05114021,  0.01406743, ..., -0.13205329,\n",
              "         0.10738586,  0.07462257],\n",
              "       [-0.09199931,  0.13048021,  0.05279049, ..., -0.09920017,\n",
              "         0.1437733 , -0.06179541],\n",
              "       ...,\n",
              "       [-0.08934412, -0.07924773,  0.14242093, ..., -0.02419178,\n",
              "         0.0088561 ,  0.13085087],\n",
              "       [ 0.02623561,  0.14713164, -0.11581719, ...,  0.02301088,\n",
              "         0.04163383, -0.13292564],\n",
              "       [ 0.12721942, -0.11754793,  0.01586892, ...,  0.0868466 ,\n",
              "        -0.04499597,  0.04043002]], dtype=float32)"
            ]
          },
          "metadata": {
            "tags": []
          },
          "execution_count": 10
        }
      ]
    },
    {
      "cell_type": "code",
      "metadata": {
        "id": "aMWw262T_M49",
        "colab_type": "code",
        "colab": {
          "base_uri": "https://localhost:8080/",
          "height": 85
        },
        "outputId": "3b016144-07dd-44cf-e461-a36830d2205d"
      },
      "source": [
        "biases"
      ],
      "execution_count": 11,
      "outputs": [
        {
          "output_type": "execute_result",
          "data": {
            "text/plain": [
              "array([0., 0., 0., 0., 0., 0., 0., 0., 0., 0., 0., 0., 0., 0., 0., 0., 0.,\n",
              "       0., 0., 0., 0., 0., 0., 0., 0., 0., 0., 0., 0., 0., 0., 0., 0., 0.,\n",
              "       0., 0., 0., 0., 0., 0., 0., 0., 0., 0., 0., 0., 0., 0., 0., 0.],\n",
              "      dtype=float32)"
            ]
          },
          "metadata": {
            "tags": []
          },
          "execution_count": 11
        }
      ]
    },
    {
      "cell_type": "code",
      "metadata": {
        "id": "6YfiS2Qg_TaL",
        "colab_type": "code",
        "colab": {}
      },
      "source": [
        "model.compile(loss=keras.losses.mse,\n",
        "              optimizer=\"sgd\",\n",
        "              metrics=[keras.losses.mae])"
      ],
      "execution_count": 0,
      "outputs": []
    },
    {
      "cell_type": "code",
      "metadata": {
        "id": "a3A5xULt_X_j",
        "colab_type": "code",
        "colab": {
          "base_uri": "https://localhost:8080/",
          "height": 394
        },
        "outputId": "9e00abf2-841f-4c05-e10d-e7552d13a42c"
      },
      "source": [
        "history = model.fit(Xtrain, Ytrain, epochs=10, validation_data=(Xvalid, Yvalid))"
      ],
      "execution_count": 13,
      "outputs": [
        {
          "output_type": "stream",
          "text": [
            "Train on 10113 samples, validate on 4335 samples\n",
            "Epoch 1/10\n",
            "10113/10113 [==============================] - 1s 80us/sample - loss: 14060267731.4791 - mean_absolute_error: 92557.9375 - val_loss: 13507109679.1843 - val_mean_absolute_error: 92925.7344\n",
            "Epoch 2/10\n",
            "10113/10113 [==============================] - 1s 62us/sample - loss: 13266540350.3071 - mean_absolute_error: 90895.0625 - val_loss: 13515136115.3919 - val_mean_absolute_error: 93097.8359\n",
            "Epoch 3/10\n",
            "10113/10113 [==============================] - 1s 62us/sample - loss: 13269372133.0406 - mean_absolute_error: 90884.2266 - val_loss: 13564983941.5806 - val_mean_absolute_error: 90739.8125\n",
            "Epoch 4/10\n",
            "10113/10113 [==============================] - 1s 63us/sample - loss: 13273046809.9468 - mean_absolute_error: 90912.5391 - val_loss: 14077968603.9179 - val_mean_absolute_error: 98187.6328\n",
            "Epoch 5/10\n",
            "10113/10113 [==============================] - 1s 63us/sample - loss: 13288976289.1739 - mean_absolute_error: 91118.0312 - val_loss: 13642221072.4171 - val_mean_absolute_error: 90296.1250\n",
            "Epoch 6/10\n",
            "10113/10113 [==============================] - 1s 63us/sample - loss: 13266567555.7022 - mean_absolute_error: 90808.2578 - val_loss: 13624485245.4902 - val_mean_absolute_error: 90377.2891\n",
            "Epoch 7/10\n",
            "10113/10113 [==============================] - 1s 64us/sample - loss: 13268391715.0598 - mean_absolute_error: 90821.0000 - val_loss: 13887187151.8708 - val_mean_absolute_error: 96814.4219\n",
            "Epoch 8/10\n",
            "10113/10113 [==============================] - 1s 64us/sample - loss: 13277441486.9416 - mean_absolute_error: 91018.8750 - val_loss: 13650773214.7525 - val_mean_absolute_error: 90252.2969\n",
            "Epoch 9/10\n",
            "10113/10113 [==============================] - 1s 63us/sample - loss: 13270170925.4385 - mean_absolute_error: 90810.1797 - val_loss: 14255149568.1181 - val_mean_absolute_error: 99363.7969\n",
            "Epoch 10/10\n",
            "10113/10113 [==============================] - 1s 63us/sample - loss: 13280200662.8901 - mean_absolute_error: 91087.7578 - val_loss: 13733353056.9670 - val_mean_absolute_error: 89971.2344\n"
          ],
          "name": "stdout"
        }
      ]
    },
    {
      "cell_type": "code",
      "metadata": {
        "id": "sChoynnK_YEw",
        "colab_type": "code",
        "colab": {
          "base_uri": "https://localhost:8080/",
          "height": 187
        },
        "outputId": "768fd9ca-1032-4b53-ffec-4fdee8601265"
      },
      "source": [
        "history.params"
      ],
      "execution_count": 14,
      "outputs": [
        {
          "output_type": "execute_result",
          "data": {
            "text/plain": [
              "{'batch_size': 32,\n",
              " 'do_validation': True,\n",
              " 'epochs': 10,\n",
              " 'metrics': ['loss',\n",
              "  'mean_absolute_error',\n",
              "  'val_loss',\n",
              "  'val_mean_absolute_error'],\n",
              " 'samples': 10113,\n",
              " 'steps': None,\n",
              " 'verbose': 0}"
            ]
          },
          "metadata": {
            "tags": []
          },
          "execution_count": 14
        }
      ]
    },
    {
      "cell_type": "code",
      "metadata": {
        "id": "POORf_Vj_eH8",
        "colab_type": "code",
        "colab": {
          "base_uri": "https://localhost:8080/",
          "height": 487
        },
        "outputId": "86a76465-ce9f-4753-cfcc-bdaa42ccdbc6"
      },
      "source": [
        "import pandas as pd\n",
        "\n",
        "pd.DataFrame(history.history).plot(figsize=(10, 8))\n",
        "plt.grid(True)\n",
        "plt.gca().set_ylim(0, 100000)\n",
        "#save_fig(\"keras_learning_curves_plot\")\n",
        "plt.show()"
      ],
      "execution_count": 21,
      "outputs": [
        {
          "output_type": "display_data",
          "data": {
            "image/png": "[encoded data removed]",
            "text/plain": [
              "<Figure size 720x576 with 1 Axes>"
            ]
          },
          "metadata": {
            "tags": []
          }
        }
      ]
    },
    {
      "cell_type": "code",
      "metadata": {
        "id": "-wD0frBb_gma",
        "colab_type": "code",
        "colab": {}
      },
      "source": [
        "Xtest, Ytest = pre_exploratorio_housing(Xtest,col_sal,col_num,col_cat,estra_num='median',estra_cat='most_frequent')\n",
        "\n",
        "\n",
        "#Categorizo\n",
        "codificador = OrdinalEncoder()\n",
        "Xtest['ocean_proximity'].value_counts()\n",
        "Xtest['ocean_proximity'] = codificador.fit_transform(Xtest[['ocean_proximity']])"
      ],
      "execution_count": 0,
      "outputs": []
    }
  ]
}